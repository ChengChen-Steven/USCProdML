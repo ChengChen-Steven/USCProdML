{
 "cells": [
  {
   "cell_type": "code",
   "execution_count": 146,
   "metadata": {
    "collapsed": true
   },
   "outputs": [],
   "source": [
    "import pandas as pd\n",
    "import numpy as np\n",
    "import sklearn\n",
    "import random as rand\n",
    "from sklearn.ensemble import GradientBoostingRegressor, RandomForestRegressor\n",
    "from sklearn.model_selection import train_test_split\n",
    "from pandas.io.json import json_normalize\n",
    "from IPython.display import clear_output\n",
    "import ipywidgets as widgets\n"
   ]
  },
  {
   "cell_type": "markdown",
   "metadata": {},
   "source": [
    "# Introduction\n",
    "\n",
    "### What are we doing here?\n",
    "\n",
    "You are in school because you either love to, or want to, work with data (hopefully both!). Over the last 10 years, the field of Data Science has matured quite a bit, and with it, the re-emergence of ML as a tool for solving some of the most challenging data problems with increased speed, accurracy and with entirely new capabilities.  \n",
    "\n",
    "So, Abbass and your other professors are teaching you all about how to make those amazing tools do amazing things--Right? Great.\n",
    "\n",
    "Well, at some point you'll graduate (seriously).  You'll also get a job (seriously). At that job, you'll do some amazing work eventually--you'll build a ML model that passes all of the tests, and you'll probably want to scale it to your whole user populaton.\n",
    "\n",
    "So...What do you do?\n",
    "\n",
    "That's where this workshop comes in.  There are a lot of ways to deploy and scale ML applications today (this is both a good and bad thing) but since it's all changing at breakneck pace, maybe school hasn't caught up yet.  So I want to show you a bit about the deployment paradigms that exist and give you a taste for where you might want to invest more time as you continue your ML/DS/AI Journey.\n",
    "\n",
    "### First, we need to Give Credit where credit is due:\n",
    "\n",
    "I drew inspiration, code and ideas from several, excellent articles written by some great people in the open data science community:\n",
    "\n",
    "[Create a model to predict house prices using Python - Shreyas Raghavan](https://towardsdatascience.com/create-a-model-to-predict-house-prices-using-python-d34fe8fad88f)\n",
    "\n",
    "[Deploy your Machine Learning model as an API in 5 minutes (with Docker and Flask) - Guissart](https://medium.com/dataswati-garage/deploy-your-machine-learning-model-as-api-in-5-minutes-with-docker-and-flask-8aa747b1263b)\n",
    "\n",
    "[Create a complete Machine learning web application using React and Flask](https://towardsdatascience.com/create-a-complete-machine-learning-web-application-using-react-and-flask-859340bddb33)\n",
    "\n",
    "[Tidymodels-tidypredict](https://tidymodels.github.io/tidypredict/)\n"
   ]
  },
  {
   "cell_type": "markdown",
   "metadata": {},
   "source": [
    "### Here are the main technologies and tools we'll use for the workshop\n",
    "* [Python virtual environments](https://docs.python.org/3/tutorial/venv.html)\n",
    "* [Docker](https://en.wikipedia.org/wiki/Docker_(software))\n",
    "* [Scikit-learn](https://scikit-learn.org/stable/)\n",
    "* [Flask](https://en.wikipedia.org/wiki/Flask_(web_framework))\n",
    "* [React](https://en.wikipedia.org/wiki/React_(web_framework)) - We'll cover this at a high level.  \n"
   ]
  },
  {
   "cell_type": "markdown",
   "metadata": {},
   "source": [
    "###  Three Deployment Paradigms\n",
    "\n",
    "As I said, there are many different ways to push a ML model into production, but for simplicity's sake we'll cover just a few...\n",
    "\n",
    "1. [Easy] Train in R/python and Run prediction directly in the database using tidypredict or something similar\n",
    "2. **[Medium-Flexible] Wrap model inside of web app framework (i.e. Flask) and expose scoring function as a RESTful API endpoint**\n",
    "3. [Hard-Scalable] Build a highly responsive, highly scalable production AI product using Apache Kafka and MLFlow\n",
    "\n",
    "We're going to spend the most time working through an example that falls into #2"
   ]
  },
  {
   "cell_type": "markdown",
   "metadata": {},
   "source": [
    "### The Data:\n",
    "\n",
    "The data is taken from this [Kaggle](https://www.kaggle.com/shivachandel/kc-house-data) page. \n",
    "\n",
    "Online property companies offer valuations of houses using machine learning techniques. The aim of this report is to predict the house sales in King County, Washington State, USA using Multiple Linear Regression (MLR). The dataset consisted of historic data of houses sold between May 2014 to May 2015. We will predict the sales of houses in King County with an accuracy of at least 75-80% and understand which factors are responsible for higher property value - $650K and above.”\n",
    "\n",
    "The dataset consists of house prices from King County an area in the US State of Washington, this data also covers Seattle. The dataset was obtained from Kaggle. **This data was published/released under CC0**: Public Domain. Unfortunately, the user has not indicated the source of the data. Please find the citation and database description in the Glossary and Bibliography. The dataset consisted of 21 variables and 21613 observations."
   ]
  },
  {
   "cell_type": "code",
   "execution_count": 147,
   "metadata": {
    "collapsed": true
   },
   "outputs": [],
   "source": [
    "data = pd.read_csv(\"kc_house_data.csv\")"
   ]
  },
  {
   "cell_type": "code",
   "execution_count": 148,
   "metadata": {},
   "outputs": [
    {
     "data": {
      "text/plain": [
       "id               21613\n",
       "date             21613\n",
       "price            21613\n",
       "bedrooms         21613\n",
       "bathrooms        21613\n",
       "sqft_living      21613\n",
       "sqft_lot         21613\n",
       "floors           21613\n",
       "waterfront       21613\n",
       "view             21613\n",
       "condition        21613\n",
       "grade            21613\n",
       "sqft_above       21613\n",
       "sqft_basement    21613\n",
       "yr_built         21613\n",
       "yr_renovated     21613\n",
       "zipcode          21613\n",
       "lat              21613\n",
       "long             21613\n",
       "sqft_living15    21613\n",
       "sqft_lot15       21613\n",
       "dtype: int64"
      ]
     },
     "execution_count": 148,
     "metadata": {},
     "output_type": "execute_result"
    }
   ],
   "source": [
    "data.count()"
   ]
  },
  {
   "cell_type": "code",
   "execution_count": 149,
   "metadata": {},
   "outputs": [
    {
     "data": {
      "text/html": [
       "<div>\n",
       "<style>\n",
       "    .dataframe thead tr:only-child th {\n",
       "        text-align: right;\n",
       "    }\n",
       "\n",
       "    .dataframe thead th {\n",
       "        text-align: left;\n",
       "    }\n",
       "\n",
       "    .dataframe tbody tr th {\n",
       "        vertical-align: top;\n",
       "    }\n",
       "</style>\n",
       "<table border=\"1\" class=\"dataframe\">\n",
       "  <thead>\n",
       "    <tr style=\"text-align: right;\">\n",
       "      <th></th>\n",
       "      <th>id</th>\n",
       "      <th>date</th>\n",
       "      <th>price</th>\n",
       "      <th>bedrooms</th>\n",
       "      <th>bathrooms</th>\n",
       "      <th>sqft_living</th>\n",
       "      <th>sqft_lot</th>\n",
       "      <th>floors</th>\n",
       "      <th>waterfront</th>\n",
       "      <th>view</th>\n",
       "      <th>...</th>\n",
       "      <th>grade</th>\n",
       "      <th>sqft_above</th>\n",
       "      <th>sqft_basement</th>\n",
       "      <th>yr_built</th>\n",
       "      <th>yr_renovated</th>\n",
       "      <th>zipcode</th>\n",
       "      <th>lat</th>\n",
       "      <th>long</th>\n",
       "      <th>sqft_living15</th>\n",
       "      <th>sqft_lot15</th>\n",
       "    </tr>\n",
       "  </thead>\n",
       "  <tbody>\n",
       "    <tr>\n",
       "      <th>0</th>\n",
       "      <td>7129300520</td>\n",
       "      <td>20141013T000000</td>\n",
       "      <td>221900.0</td>\n",
       "      <td>3</td>\n",
       "      <td>1.00</td>\n",
       "      <td>1180</td>\n",
       "      <td>5650</td>\n",
       "      <td>1.0</td>\n",
       "      <td>0</td>\n",
       "      <td>0</td>\n",
       "      <td>...</td>\n",
       "      <td>7</td>\n",
       "      <td>1180</td>\n",
       "      <td>0</td>\n",
       "      <td>1955</td>\n",
       "      <td>0</td>\n",
       "      <td>98178</td>\n",
       "      <td>47.5112</td>\n",
       "      <td>-122.257</td>\n",
       "      <td>1340</td>\n",
       "      <td>5650</td>\n",
       "    </tr>\n",
       "    <tr>\n",
       "      <th>1</th>\n",
       "      <td>6414100192</td>\n",
       "      <td>20141209T000000</td>\n",
       "      <td>538000.0</td>\n",
       "      <td>3</td>\n",
       "      <td>2.25</td>\n",
       "      <td>2570</td>\n",
       "      <td>7242</td>\n",
       "      <td>2.0</td>\n",
       "      <td>0</td>\n",
       "      <td>0</td>\n",
       "      <td>...</td>\n",
       "      <td>7</td>\n",
       "      <td>2170</td>\n",
       "      <td>400</td>\n",
       "      <td>1951</td>\n",
       "      <td>1991</td>\n",
       "      <td>98125</td>\n",
       "      <td>47.7210</td>\n",
       "      <td>-122.319</td>\n",
       "      <td>1690</td>\n",
       "      <td>7639</td>\n",
       "    </tr>\n",
       "    <tr>\n",
       "      <th>2</th>\n",
       "      <td>5631500400</td>\n",
       "      <td>20150225T000000</td>\n",
       "      <td>180000.0</td>\n",
       "      <td>2</td>\n",
       "      <td>1.00</td>\n",
       "      <td>770</td>\n",
       "      <td>10000</td>\n",
       "      <td>1.0</td>\n",
       "      <td>0</td>\n",
       "      <td>0</td>\n",
       "      <td>...</td>\n",
       "      <td>6</td>\n",
       "      <td>770</td>\n",
       "      <td>0</td>\n",
       "      <td>1933</td>\n",
       "      <td>0</td>\n",
       "      <td>98028</td>\n",
       "      <td>47.7379</td>\n",
       "      <td>-122.233</td>\n",
       "      <td>2720</td>\n",
       "      <td>8062</td>\n",
       "    </tr>\n",
       "    <tr>\n",
       "      <th>3</th>\n",
       "      <td>2487200875</td>\n",
       "      <td>20141209T000000</td>\n",
       "      <td>604000.0</td>\n",
       "      <td>4</td>\n",
       "      <td>3.00</td>\n",
       "      <td>1960</td>\n",
       "      <td>5000</td>\n",
       "      <td>1.0</td>\n",
       "      <td>0</td>\n",
       "      <td>0</td>\n",
       "      <td>...</td>\n",
       "      <td>7</td>\n",
       "      <td>1050</td>\n",
       "      <td>910</td>\n",
       "      <td>1965</td>\n",
       "      <td>0</td>\n",
       "      <td>98136</td>\n",
       "      <td>47.5208</td>\n",
       "      <td>-122.393</td>\n",
       "      <td>1360</td>\n",
       "      <td>5000</td>\n",
       "    </tr>\n",
       "    <tr>\n",
       "      <th>4</th>\n",
       "      <td>1954400510</td>\n",
       "      <td>20150218T000000</td>\n",
       "      <td>510000.0</td>\n",
       "      <td>3</td>\n",
       "      <td>2.00</td>\n",
       "      <td>1680</td>\n",
       "      <td>8080</td>\n",
       "      <td>1.0</td>\n",
       "      <td>0</td>\n",
       "      <td>0</td>\n",
       "      <td>...</td>\n",
       "      <td>8</td>\n",
       "      <td>1680</td>\n",
       "      <td>0</td>\n",
       "      <td>1987</td>\n",
       "      <td>0</td>\n",
       "      <td>98074</td>\n",
       "      <td>47.6168</td>\n",
       "      <td>-122.045</td>\n",
       "      <td>1800</td>\n",
       "      <td>7503</td>\n",
       "    </tr>\n",
       "  </tbody>\n",
       "</table>\n",
       "<p>5 rows × 21 columns</p>\n",
       "</div>"
      ],
      "text/plain": [
       "           id             date     price  bedrooms  bathrooms  sqft_living  \\\n",
       "0  7129300520  20141013T000000  221900.0         3       1.00         1180   \n",
       "1  6414100192  20141209T000000  538000.0         3       2.25         2570   \n",
       "2  5631500400  20150225T000000  180000.0         2       1.00          770   \n",
       "3  2487200875  20141209T000000  604000.0         4       3.00         1960   \n",
       "4  1954400510  20150218T000000  510000.0         3       2.00         1680   \n",
       "\n",
       "   sqft_lot  floors  waterfront  view     ...      grade  sqft_above  \\\n",
       "0      5650     1.0           0     0     ...          7        1180   \n",
       "1      7242     2.0           0     0     ...          7        2170   \n",
       "2     10000     1.0           0     0     ...          6         770   \n",
       "3      5000     1.0           0     0     ...          7        1050   \n",
       "4      8080     1.0           0     0     ...          8        1680   \n",
       "\n",
       "   sqft_basement  yr_built  yr_renovated  zipcode      lat     long  \\\n",
       "0              0      1955             0    98178  47.5112 -122.257   \n",
       "1            400      1951          1991    98125  47.7210 -122.319   \n",
       "2              0      1933             0    98028  47.7379 -122.233   \n",
       "3            910      1965             0    98136  47.5208 -122.393   \n",
       "4              0      1987             0    98074  47.6168 -122.045   \n",
       "\n",
       "   sqft_living15  sqft_lot15  \n",
       "0           1340        5650  \n",
       "1           1690        7639  \n",
       "2           2720        8062  \n",
       "3           1360        5000  \n",
       "4           1800        7503  \n",
       "\n",
       "[5 rows x 21 columns]"
      ]
     },
     "execution_count": 149,
     "metadata": {},
     "output_type": "execute_result"
    }
   ],
   "source": [
    "data.head()"
   ]
  },
  {
   "cell_type": "markdown",
   "metadata": {},
   "source": [
    "### Project Setup\n",
    "\n",
    "We'll need a few things to make this work: "
   ]
  },
  {
   "cell_type": "markdown",
   "metadata": {},
   "source": [
    "#### 1. A data set (see above)\n",
    "\n",
    " We are going to with on a dataset which consists information about the location of the house , price and other aspects such as square feet etc. The goal is to make a model which can give us a good prediction on the price of the house based on these attributes.  Before going too much farther, we should also discuss our success criteria--that is what is a good enough outcome for use of the model? [Insert discussion about AI product development] We can’t actually define “good accuracy” for this problem, but anything above 85% is good. Our aim on this dataset is to achieve an accuracy score of 85%+\n",
    " \n",
    "Let's also do some prep (handle dates, remove index, extract and remove target variable (price) for training and reduce fearture space from 19 to 6"
   ]
  },
  {
   "cell_type": "code",
   "execution_count": 150,
   "metadata": {
    "collapsed": true
   },
   "outputs": [],
   "source": [
    "labels = data['price']\n",
    "conv_dates = [1 if values == 2014 else 0 for values in data.date ]\n",
    "data['date'] = conv_dates\n",
    "train1 = data.drop(['id', 'price'],axis=1)"
   ]
  },
  {
   "cell_type": "code",
   "execution_count": 151,
   "metadata": {
    "collapsed": true
   },
   "outputs": [],
   "source": [
    "x_train, x_test, y_train, y_test = train_test_split(train1, labels, test_size=0.10, random_state=2)"
   ]
  },
  {
   "cell_type": "code",
   "execution_count": 152,
   "metadata": {
    "collapsed": true
   },
   "outputs": [],
   "source": [
    "col_imp = [\"grade\", \"lat\", \"long\", \"sqft_living\", \"waterfront\", \"yr_built\"]"
   ]
  },
  {
   "cell_type": "markdown",
   "metadata": {},
   "source": [
    "#### 2. An acceptable model which does something interesting (here: predicts home price from house demographics)"
   ]
  },
  {
   "cell_type": "markdown",
   "metadata": {},
   "source": [
    " * Walk through training of GBT Regressor"
   ]
  },
  {
   "cell_type": "code",
   "execution_count": 153,
   "metadata": {
    "collapsed": true
   },
   "outputs": [],
   "source": [
    "clf = GradientBoostingRegressor(n_estimators=400, max_depth=5, min_samples_split=2,\n",
    "          learning_rate=0.1, loss='ls')"
   ]
  },
  {
   "cell_type": "code",
   "execution_count": 154,
   "metadata": {},
   "outputs": [
    {
     "data": {
      "text/plain": [
       "GradientBoostingRegressor(alpha=0.9, criterion='friedman_mse', init=None,\n",
       "             learning_rate=0.1, loss='ls', max_depth=5, max_features=None,\n",
       "             max_leaf_nodes=None, min_impurity_decrease=0.0,\n",
       "             min_impurity_split=None, min_samples_leaf=1,\n",
       "             min_samples_split=2, min_weight_fraction_leaf=0.0,\n",
       "             n_estimators=400, presort='auto', random_state=None,\n",
       "             subsample=1.0, verbose=0, warm_start=False)"
      ]
     },
     "execution_count": 154,
     "metadata": {},
     "output_type": "execute_result"
    }
   ],
   "source": [
    "clf.fit(train1[col_imp], labels)"
   ]
  },
  {
   "cell_type": "code",
   "execution_count": 155,
   "metadata": {},
   "outputs": [
    {
     "data": {
      "text/plain": [
       "0.95538427386965774"
      ]
     },
     "execution_count": 155,
     "metadata": {},
     "output_type": "execute_result"
    }
   ],
   "source": [
    "clf.score(x_test[col_imp],y_test)"
   ]
  },
  {
   "cell_type": "code",
   "execution_count": null,
   "metadata": {
    "collapsed": true
   },
   "outputs": [],
   "source": []
  },
  {
   "cell_type": "markdown",
   "metadata": {},
   "source": [
    "#### 3. A way to encode the model for reuse in the Flask server\n",
    "\n",
    "* Create a function that takes a dictionary value representation for a home and a model returns a  price prediction"
   ]
  },
  {
   "cell_type": "code",
   "execution_count": 156,
   "metadata": {
    "collapsed": true
   },
   "outputs": [],
   "source": [
    "def predict(dict_values, col_imp=col_imp, clf=clf):\n",
    "    x = np.array([float(dict_values[col]) for col in col_imp])\n",
    "    x = x.reshape(1,-1)\n",
    "    y_pred = clf.predict(x)[0]\n",
    "    return y_pred"
   ]
  },
  {
   "cell_type": "markdown",
   "metadata": {},
   "source": [
    "* Export some test data to a [JSON](https://en.wikipedia.org/wiki/JSON) object so they can be easily handled by the prediction API that we're going to setup"
   ]
  },
  {
   "cell_type": "code",
   "execution_count": 157,
   "metadata": {},
   "outputs": [
    {
     "data": {
      "text/plain": [
       "'{\"grade\":5.0,\"lat\":47.5138,\"long\":-122.364,\"sqft_living\":620.0,\"waterfront\":0.0,\"yr_built\":1939.0}'"
      ]
     },
     "execution_count": 157,
     "metadata": {},
     "output_type": "execute_result"
    }
   ],
   "source": [
    "x_test[col_imp].iloc[20].T.to_json(force_ascii = False)"
   ]
  },
  {
   "cell_type": "code",
   "execution_count": 158,
   "metadata": {
    "collapsed": true
   },
   "outputs": [],
   "source": [
    "x_test_json = x_test[col_imp].iloc[20].T.replace('},{', '} {')"
   ]
  },
  {
   "cell_type": "code",
   "execution_count": 159,
   "metadata": {},
   "outputs": [
    {
     "data": {
      "text/plain": [
       "grade             5.0000\n",
       "lat              47.5138\n",
       "long           -122.3640\n",
       "sqft_living     620.0000\n",
       "waterfront        0.0000\n",
       "yr_built       1939.0000\n",
       "Name: 12418, dtype: float64"
      ]
     },
     "execution_count": 159,
     "metadata": {},
     "output_type": "execute_result"
    }
   ],
   "source": [
    "x_test_json"
   ]
  },
  {
   "cell_type": "code",
   "execution_count": 160,
   "metadata": {},
   "outputs": [
    {
     "data": {
      "text/plain": [
       "179378.01971649766"
      ]
     },
     "execution_count": 160,
     "metadata": {},
     "output_type": "execute_result"
    }
   ],
   "source": [
    "predict(x_test_json)"
   ]
  },
  {
   "cell_type": "markdown",
   "metadata": {},
   "source": [
    "* Saving a random example to file, so we can test it with the Flask API"
   ]
  },
  {
   "cell_type": "code",
   "execution_count": 161,
   "metadata": {
    "collapsed": true
   },
   "outputs": [],
   "source": [
    "x_test[col_imp].iloc[rand.randint(1,2100)].T.to_json(\"../to_predict_json.json\")"
   ]
  },
  {
   "cell_type": "markdown",
   "metadata": {},
   "source": [
    "### UI lab"
   ]
  },
  {
   "cell_type": "code",
   "execution_count": 165,
   "metadata": {},
   "outputs": [],
   "source": [
    "#draft 1 \n",
    "score_btn = widgets.Button(description='Return Score')\n",
    "upload_btn = widgets.Button(description = 'Upload')\n",
    "btn_select_random = widgets.Button(description = 'Select Random Row & Score')\n",
    "out_pl = widgets.Output(layout={'border': '1px solid black'})\n",
    "\n",
    "\n",
    "\n",
    "\n",
    "\n",
    "def btn_select_random_eventhandler(obj):\n",
    "    with out_pl:\n",
    "        global x_test_json\n",
    "        x_test_json = x_test[col_imp].iloc[rand.randint(1,2100)].T.replace('},{', '} {')\n",
    "        clear_output()\n",
    "        print(x_test_json)\n",
    "          \n",
    "        \n",
    "        \n",
    "def btn_score_eventhandler(obj):\n",
    "    with out_pl:\n",
    "        clear_output()\n",
    "        print(\"Predicted Price: $\",predict(x_test_json) )\n",
    "        \n",
    "           \n",
    "    \n",
    "    "
   ]
  },
  {
   "cell_type": "code",
   "execution_count": 167,
   "metadata": {},
   "outputs": [
    {
     "data": {
      "application/vnd.jupyter.widget-view+json": {
       "model_id": "36736e4c31a3486da1005d8b17adbddf",
       "version_major": 2,
       "version_minor": 0
      },
      "text/plain": [
       "A Jupyter Widget"
      ]
     },
     "metadata": {},
     "output_type": "display_data"
    }
   ],
   "source": [
    "#display(score_btn)\n",
    "#display(upload_btn)\n",
    "\n",
    "display(widgets.VBox([btn_select_random,score_btn,out_pl]))\n",
    "\n",
    "btn_select_random.on_click(btn_select_random_eventhandler)\n",
    "score_btn.on_click(btn_score_eventhandler)\n",
    "\n"
   ]
  },
  {
   "cell_type": "code",
   "execution_count": null,
   "metadata": {
    "collapsed": true
   },
   "outputs": [],
   "source": []
  },
  {
   "cell_type": "code",
   "execution_count": 214,
   "metadata": {
    "collapsed": true
   },
   "outputs": [],
   "source": [
    "#draft 2\n",
    "\n",
    "score_btn = widgets.Button(description='Return Price', \n",
    "                           button_style='primary',\n",
    "                           layout = widgets.Layout(width='auto', height='40px'))\n",
    "btn_select_random = widgets.Button(description = 'Select Random House', \n",
    "                                   layout = widgets.Layout(width='auto', height='auto'))\n",
    "out_select = widgets.Output(layout={'border': '1px solid black'})\n",
    "out_score = widgets.Output(layout={'border': '1px solid black'})\n",
    "\n",
    "\n",
    "widgets.Layout(width = 'auto')\n",
    "\n",
    "def btn_select_random_eventhandler(obj):\n",
    "    with out_select:\n",
    "        global x_test_json\n",
    "        x_test_json = x_test[col_imp].iloc[rand.randint(1,2100)].T.replace('},{', '} {')\n",
    "        clear_output()\n",
    "        print(x_test_json)\n",
    "          \n",
    "        \n",
    "        \n",
    "def btn_score_eventhandler(obj):\n",
    "    with out_score:\n",
    "        clear_output()\n",
    "        print(\"Predicted Price: $\",predict(x_test_json) )\n",
    "\n"
   ]
  },
  {
   "cell_type": "code",
   "execution_count": 215,
   "metadata": {},
   "outputs": [
    {
     "data": {
      "application/vnd.jupyter.widget-view+json": {
       "model_id": "fbeadf54b5fb4b72855d371f490b7c9c",
       "version_major": 2,
       "version_minor": 0
      },
      "text/plain": [
       "A Jupyter Widget"
      ]
     },
     "metadata": {},
     "output_type": "display_data"
    }
   ],
   "source": [
    "display(widgets.VBox([btn_select_random,score_btn,out_select,out_score]))\n",
    "\n",
    "btn_select_random.on_click(btn_select_random_eventhandler)\n",
    "score_btn.on_click(btn_score_eventhandler)"
   ]
  },
  {
   "cell_type": "markdown",
   "metadata": {},
   "source": [
    "## Appendix"
   ]
  },
  {
   "cell_type": "markdown",
   "metadata": {},
   "source": [
    " * Walk through training of RF Regressor?\n",
    " * Compare R^2 scores to select one?"
   ]
  },
  {
   "cell_type": "code",
   "execution_count": 69,
   "metadata": {},
   "outputs": [
    {
     "data": {
      "text/plain": [
       "grade            11.0000\n",
       "lat              47.5696\n",
       "long           -122.0900\n",
       "sqft_living    5270.0000\n",
       "waterfront        1.0000\n",
       "yr_built       1979.0000\n",
       "Name: 13710, dtype: float64"
      ]
     },
     "execution_count": 69,
     "metadata": {},
     "output_type": "execute_result"
    }
   ],
   "source": [
    "x_test[col_imp].iloc[rand.randint(1,2162)]"
   ]
  },
  {
   "cell_type": "code",
   "execution_count": null,
   "metadata": {
    "collapsed": true
   },
   "outputs": [],
   "source": [
    "x_test[col_imp].iloc[rand.randint(1,2162)].T.to_json(\"../to_predict_json.json\")"
   ]
  },
  {
   "cell_type": "code",
   "execution_count": 217,
   "metadata": {},
   "outputs": [
    {
     "name": "stdout",
     "output_type": "stream",
     "text": [
      "Requirement already satisfied: voila in /Users/junorman/anaconda3/lib/python3.6/site-packages\n",
      "Requirement already satisfied: nbclient<0.6,>=0.4.0 in /Users/junorman/anaconda3/lib/python3.6/site-packages (from voila)\n",
      "Requirement already satisfied: jupyter-server<2.0.0,>=0.3.0 in /Users/junorman/anaconda3/lib/python3.6/site-packages (from voila)\n",
      "Requirement already satisfied: nbconvert<7,>=6.0.0 in /Users/junorman/anaconda3/lib/python3.6/site-packages (from voila)\n",
      "Requirement already satisfied: jupyter-client<7,>=6.1.3 in /Users/junorman/anaconda3/lib/python3.6/site-packages (from voila)\n",
      "Requirement already satisfied: nbformat>=5.0 in /Users/junorman/anaconda3/lib/python3.6/site-packages (from nbclient<0.6,>=0.4.0->voila)\n",
      "Requirement already satisfied: traitlets>=4.2 in /Users/junorman/anaconda3/lib/python3.6/site-packages (from nbclient<0.6,>=0.4.0->voila)\n",
      "Requirement already satisfied: async-generator in /Users/junorman/anaconda3/lib/python3.6/site-packages (from nbclient<0.6,>=0.4.0->voila)\n",
      "Requirement already satisfied: nest-asyncio in /Users/junorman/anaconda3/lib/python3.6/site-packages (from nbclient<0.6,>=0.4.0->voila)\n",
      "Requirement already satisfied: jupyter-core>=4.4.0 in /Users/junorman/anaconda3/lib/python3.6/site-packages (from jupyter-server<2.0.0,>=0.3.0->voila)\n",
      "Requirement already satisfied: terminado>=0.8.3 in /Users/junorman/anaconda3/lib/python3.6/site-packages (from jupyter-server<2.0.0,>=0.3.0->voila)\n",
      "Collecting tornado>=5.0 (from jupyter-server<2.0.0,>=0.3.0->voila)\n",
      "  Downloading https://files.pythonhosted.org/packages/95/84/119a46d494f008969bf0c775cb2c6b3579d3c4cc1bb1b41a022aa93ee242/tornado-6.0.4.tar.gz (496kB)\n",
      "\u001b[K    100% |████████████████████████████████| 501kB 880kB/s ta 0:00:01\n",
      "\u001b[?25hRequirement already satisfied: ipython-genutils in /Users/junorman/anaconda3/lib/python3.6/site-packages (from jupyter-server<2.0.0,>=0.3.0->voila)\n",
      "Requirement already satisfied: jinja2 in /Users/junorman/anaconda3/lib/python3.6/site-packages (from jupyter-server<2.0.0,>=0.3.0->voila)\n",
      "Requirement already satisfied: prometheus-client in /Users/junorman/anaconda3/lib/python3.6/site-packages (from jupyter-server<2.0.0,>=0.3.0->voila)\n",
      "Collecting pyzmq>=17 (from jupyter-server<2.0.0,>=0.3.0->voila)\n",
      "  Downloading https://files.pythonhosted.org/packages/9e/fd/dcebddd29df55fa951144da02057aa2b1c521a5abcf37e811dc093f6f03d/pyzmq-19.0.2-cp36-cp36m-macosx_10_9_intel.whl (1.4MB)\n",
      "\u001b[K    100% |████████████████████████████████| 1.4MB 813kB/s ta 0:00:01\n",
      "\u001b[?25hRequirement already satisfied: Send2Trash in /Users/junorman/anaconda3/lib/python3.6/site-packages (from jupyter-server<2.0.0,>=0.3.0->voila)\n",
      "Requirement already satisfied: jupyterlab-pygments in /Users/junorman/anaconda3/lib/python3.6/site-packages (from nbconvert<7,>=6.0.0->voila)\n",
      "Requirement already satisfied: pandocfilters>=1.4.1 in /Users/junorman/anaconda3/lib/python3.6/site-packages (from nbconvert<7,>=6.0.0->voila)\n",
      "Requirement already satisfied: bleach in /Users/junorman/anaconda3/lib/python3.6/site-packages (from nbconvert<7,>=6.0.0->voila)\n",
      "Requirement already satisfied: mistune<2,>=0.8.1 in /Users/junorman/anaconda3/lib/python3.6/site-packages (from nbconvert<7,>=6.0.0->voila)\n",
      "Requirement already satisfied: defusedxml in /Users/junorman/anaconda3/lib/python3.6/site-packages (from nbconvert<7,>=6.0.0->voila)\n",
      "Requirement already satisfied: entrypoints>=0.2.2 in /Users/junorman/anaconda3/lib/python3.6/site-packages (from nbconvert<7,>=6.0.0->voila)\n",
      "Requirement already satisfied: pygments>=2.4.1 in /Users/junorman/anaconda3/lib/python3.6/site-packages (from nbconvert<7,>=6.0.0->voila)\n",
      "Requirement already satisfied: testpath in /Users/junorman/anaconda3/lib/python3.6/site-packages (from nbconvert<7,>=6.0.0->voila)\n",
      "Requirement already satisfied: python-dateutil>=2.1 in /Users/junorman/anaconda3/lib/python3.6/site-packages (from jupyter-client<7,>=6.1.3->voila)\n",
      "Requirement already satisfied: jsonschema!=2.5.0,>=2.4 in /Users/junorman/anaconda3/lib/python3.6/site-packages (from nbformat>=5.0->nbclient<0.6,>=0.4.0->voila)\n",
      "Requirement already satisfied: six in /Users/junorman/anaconda3/lib/python3.6/site-packages (from traitlets>=4.2->nbclient<0.6,>=0.4.0->voila)\n",
      "Requirement already satisfied: decorator in /Users/junorman/anaconda3/lib/python3.6/site-packages (from traitlets>=4.2->nbclient<0.6,>=0.4.0->voila)\n",
      "Requirement already satisfied: ptyprocess; os_name != \"nt\" in /Users/junorman/anaconda3/lib/python3.6/site-packages (from terminado>=0.8.3->jupyter-server<2.0.0,>=0.3.0->voila)\n",
      "Requirement already satisfied: MarkupSafe>=0.23 in /Users/junorman/anaconda3/lib/python3.6/site-packages (from jinja2->jupyter-server<2.0.0,>=0.3.0->voila)\n",
      "Requirement already satisfied: html5lib>=0.99999999 in /Users/junorman/anaconda3/lib/python3.6/site-packages (from bleach->nbconvert<7,>=6.0.0->voila)\n",
      "Requirement already satisfied: webencodings in /Users/junorman/anaconda3/lib/python3.6/site-packages (from html5lib>=0.99999999->bleach->nbconvert<7,>=6.0.0->voila)\n",
      "Requirement already satisfied: setuptools>=18.5 in /Users/junorman/anaconda3/lib/python3.6/site-packages (from html5lib>=0.99999999->bleach->nbconvert<7,>=6.0.0->voila)\n",
      "Building wheels for collected packages: tornado\n",
      "  Running setup.py bdist_wheel for tornado ... \u001b[?25ldone\n",
      "\u001b[?25h  Stored in directory: /Users/junorman/Library/Caches/pip/wheels/93/84/2f/409c7b2bb3afc3aa727f7ee8787975e0793f74d1165f4d0104\n",
      "Successfully built tornado\n",
      "Installing collected packages: tornado, pyzmq\n",
      "  Found existing installation: tornado 4.5.2\n",
      "    Uninstalling tornado-4.5.2:\n",
      "      Successfully uninstalled tornado-4.5.2\n",
      "  Found existing installation: pyzmq 16.0.2\n",
      "    Uninstalling pyzmq-16.0.2:\n",
      "      Successfully uninstalled pyzmq-16.0.2\n",
      "Successfully installed pyzmq-19.0.2 tornado-6.0.4\n",
      "\u001b[33mYou are using pip version 9.0.1, however version 20.2.4 is available.\n",
      "You should consider upgrading via the 'pip install --upgrade pip' command.\u001b[0m\n",
      "Enabling: voila\n",
      "- Writing config: /Users/junorman/anaconda3/etc/jupyter\n",
      "    - Validating...\n",
      "      voila  \u001b[32mOK\u001b[0m\n"
     ]
    }
   ],
   "source": [
    "!pip install voila\n",
    "!jupyter serverextension enable --sys-prefix voila "
   ]
  },
  {
   "cell_type": "code",
   "execution_count": null,
   "metadata": {
    "collapsed": true
   },
   "outputs": [],
   "source": []
  }
 ],
 "metadata": {
  "kernelspec": {
   "display_name": "Python 3",
   "language": "python",
   "name": "python3"
  },
  "language_info": {
   "codemirror_mode": {
    "name": "ipython",
    "version": 3
   },
   "file_extension": ".py",
   "mimetype": "text/x-python",
   "name": "python",
   "nbconvert_exporter": "python",
   "pygments_lexer": "ipython3",
   "version": "3.6.3"
  }
 },
 "nbformat": 4,
 "nbformat_minor": 2
}
