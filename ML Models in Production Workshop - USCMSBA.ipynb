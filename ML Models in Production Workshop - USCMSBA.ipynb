{
 "cells": [
  {
   "cell_type": "code",
   "execution_count": 45,
   "metadata": {},
   "outputs": [],
   "source": [
    "import pandas as pd\n",
    "import numpy as np\n",
    "import sklearn\n",
    "import random as rand\n",
    "from sklearn.ensemble import GradientBoostingRegressor, RandomForestRegressor\n",
    "from sklearn.model_selection import train_test_split\n",
    "from pandas.io.json import json_normalize"
   ]
  },
  {
   "cell_type": "markdown",
   "metadata": {},
   "source": [
    "# Introduction\n",
    "\n",
    "### What are we doing here?\n",
    "\n",
    "You are in school because you either love to, or want to, work with data (hopefully both!). Over the last 10 years, the field of Data Science has matured quite a bit, and with it, the re-emergence of ML as a tool for solving some of the most challenging data problems with increased speed, accurracy and with entirely new capabilities.  \n",
    "\n",
    "So, Abbass and your other professors are teaching you all about how to make those amazing tools do amazing things--Right? Great.\n",
    "\n",
    "Well, at some point you'll graduate (seriously).  You'll also get a job (seriously). At that job, you'll do some amazing work eventually--you'll build a ML model that passes all of the tests, and you'll probably want to scale it to your whole user populaton.\n",
    "\n",
    "So...What do you do?\n",
    "\n",
    "That's where this workshop comes in.  There are a lot of ways to deploy and scale ML applications today (this is both a good and bad thing) but since it's all changing at breakneck pace, maybe school hasn't caught up yet.  So I want to show you a bit about the deployment paradigms that exist and give you a taste for where you might want to invest more time as you continue your ML/DS/AI Journey.\n",
    "\n",
    "### First, we need to Give Credit where credit is due:\n",
    "\n",
    "I drew inspiration, code and ideas from several, excellent articles written by some great people in the open data science community:\n",
    "\n",
    "[Create a model to predict house prices using Python - Shreyas Raghavan](https://towardsdatascience.com/create-a-model-to-predict-house-prices-using-python-d34fe8fad88f)\n",
    "\n",
    "[Deploy your Machine Learning model as an API in 5 minutes (with Docker and Flask) - Guissart](https://medium.com/dataswati-garage/deploy-your-machine-learning-model-as-api-in-5-minutes-with-docker-and-flask-8aa747b1263b)\n",
    "\n",
    "[Create a complete Machine learning web application using React and Flask](https://towardsdatascience.com/create-a-complete-machine-learning-web-application-using-react-and-flask-859340bddb33)\n",
    "\n",
    "[Tidymodels-tidypredict](https://tidymodels.github.io/tidypredict/)\n",
    "\n",
    "\n",
    "[Deep Learning for Coders with Fastai and PyTorch: AI Applications Without a PhD](https://www.amazon.com/Deep-Learning-Coders-fastai-PyTorch/dp/1492045527) - Jeremy Howard & Sylvain Gugger\n"
   ]
  },
  {
   "cell_type": "markdown",
   "metadata": {},
   "source": [
    "### Here are the main technologies and tools we'll use for the workshop\n",
    "* [Scikit-learn](https://scikit-learn.org/stable/)\n",
    "* [ipywidgets](https://ipywidgets.readthedocs.io/en/latest/)\n",
    "* [Voila](https://github.com/voila-dashboards/voila)\n",
    "* [Binder](https://mybinder.org/)\n",
    "* [Docker](https://en.wikipedia.org/wiki/Docker_(software)) - We'll cover this at a high level.\n",
    "* [Flask](https://en.wikipedia.org/wiki/Flask_(web_framework)) - We'll Cover this at a high livel.\n",
    "* [React](https://en.wikipedia.org/wiki/React_(web_framework)) - We'll cover this at a high level.  \n"
   ]
  },
  {
   "cell_type": "markdown",
   "metadata": {},
   "source": [
    "###  Some Deployment Paradigms\n",
    "\n",
    "As I said, there are many different ways to push a ML model into production, but for simplicity's sake we'll cover just a few...\n",
    "\n",
    "1. [Easy] Train in R/python and Run prediction directly in the database using tidypredict or something similar\n",
    "2. **[Medium-Flexible] Send some executable model code to a web service which automatically builds and hosts it for reuse**  \n",
    "3. [Medium-Inflexible] Wrap model inside of web app framework (i.e. Flask) and expose scoring function as a RESTful API endpoint\n",
    "4. [Hard-Scalable] Build a highly responsive, highly scalable production AI product using Apache Kafka for datastreaming and MLFlow for MLOps (ML CI/CD)\n",
    "\n",
    "We're going to spend the most time working through an example that falls into #2"
   ]
  },
  {
   "cell_type": "markdown",
   "metadata": {},
   "source": [
    "### The Data:\n",
    "\n",
    "The data is taken from this [Kaggle](https://www.kaggle.com/shivachandel/kc-house-data) page. \n",
    "\n",
    "Online property companies offer valuations of houses using machine learning techniques. The aim of this report is to predict the house sales in King County, Washington State, USA using Multiple Linear Regression (MLR). The dataset consisted of historic data of houses sold between May 2014 to May 2015. We will predict the sales of houses in King County with an accuracy of at least 75-80% and understand which factors are responsible for higher property value - $650K and above.”\n",
    "\n",
    "The dataset consists of house prices from King County an area in the US State of Washington, this data also covers Seattle. The dataset was obtained from Kaggle. **This data was published/released under CC0**: Public Domain. Unfortunately, the user has not indicated the source of the data. Please find the citation and database description in the Glossary and Bibliography. The dataset consisted of 21 variables and 21613 observations."
   ]
  },
  {
   "cell_type": "code",
   "execution_count": 47,
   "metadata": {},
   "outputs": [],
   "source": [
    "data = pd.read_csv(\"data/kc_house_data.csv\")"
   ]
  },
  {
   "cell_type": "code",
   "execution_count": 48,
   "metadata": {},
   "outputs": [
    {
     "data": {
      "text/plain": [
       "id               21613\n",
       "date             21613\n",
       "price            21613\n",
       "bedrooms         21613\n",
       "bathrooms        21613\n",
       "sqft_living      21613\n",
       "sqft_lot         21613\n",
       "floors           21613\n",
       "waterfront       21613\n",
       "view             21613\n",
       "condition        21613\n",
       "grade            21613\n",
       "sqft_above       21613\n",
       "sqft_basement    21613\n",
       "yr_built         21613\n",
       "yr_renovated     21613\n",
       "zipcode          21613\n",
       "lat              21613\n",
       "long             21613\n",
       "sqft_living15    21613\n",
       "sqft_lot15       21613\n",
       "dtype: int64"
      ]
     },
     "execution_count": 48,
     "metadata": {},
     "output_type": "execute_result"
    }
   ],
   "source": [
    "data.count()"
   ]
  },
  {
   "cell_type": "code",
   "execution_count": 49,
   "metadata": {},
   "outputs": [
    {
     "data": {
      "text/html": [
       "<div>\n",
       "<style scoped>\n",
       "    .dataframe tbody tr th:only-of-type {\n",
       "        vertical-align: middle;\n",
       "    }\n",
       "\n",
       "    .dataframe tbody tr th {\n",
       "        vertical-align: top;\n",
       "    }\n",
       "\n",
       "    .dataframe thead th {\n",
       "        text-align: right;\n",
       "    }\n",
       "</style>\n",
       "<table border=\"1\" class=\"dataframe\">\n",
       "  <thead>\n",
       "    <tr style=\"text-align: right;\">\n",
       "      <th></th>\n",
       "      <th>id</th>\n",
       "      <th>date</th>\n",
       "      <th>price</th>\n",
       "      <th>bedrooms</th>\n",
       "      <th>bathrooms</th>\n",
       "      <th>sqft_living</th>\n",
       "      <th>sqft_lot</th>\n",
       "      <th>floors</th>\n",
       "      <th>waterfront</th>\n",
       "      <th>view</th>\n",
       "      <th>...</th>\n",
       "      <th>grade</th>\n",
       "      <th>sqft_above</th>\n",
       "      <th>sqft_basement</th>\n",
       "      <th>yr_built</th>\n",
       "      <th>yr_renovated</th>\n",
       "      <th>zipcode</th>\n",
       "      <th>lat</th>\n",
       "      <th>long</th>\n",
       "      <th>sqft_living15</th>\n",
       "      <th>sqft_lot15</th>\n",
       "    </tr>\n",
       "  </thead>\n",
       "  <tbody>\n",
       "    <tr>\n",
       "      <th>0</th>\n",
       "      <td>7129300520</td>\n",
       "      <td>20141013T000000</td>\n",
       "      <td>221900.0</td>\n",
       "      <td>3</td>\n",
       "      <td>1.00</td>\n",
       "      <td>1180</td>\n",
       "      <td>5650</td>\n",
       "      <td>1.0</td>\n",
       "      <td>0</td>\n",
       "      <td>0</td>\n",
       "      <td>...</td>\n",
       "      <td>7</td>\n",
       "      <td>1180</td>\n",
       "      <td>0</td>\n",
       "      <td>1955</td>\n",
       "      <td>0</td>\n",
       "      <td>98178</td>\n",
       "      <td>47.5112</td>\n",
       "      <td>-122.257</td>\n",
       "      <td>1340</td>\n",
       "      <td>5650</td>\n",
       "    </tr>\n",
       "    <tr>\n",
       "      <th>1</th>\n",
       "      <td>6414100192</td>\n",
       "      <td>20141209T000000</td>\n",
       "      <td>538000.0</td>\n",
       "      <td>3</td>\n",
       "      <td>2.25</td>\n",
       "      <td>2570</td>\n",
       "      <td>7242</td>\n",
       "      <td>2.0</td>\n",
       "      <td>0</td>\n",
       "      <td>0</td>\n",
       "      <td>...</td>\n",
       "      <td>7</td>\n",
       "      <td>2170</td>\n",
       "      <td>400</td>\n",
       "      <td>1951</td>\n",
       "      <td>1991</td>\n",
       "      <td>98125</td>\n",
       "      <td>47.7210</td>\n",
       "      <td>-122.319</td>\n",
       "      <td>1690</td>\n",
       "      <td>7639</td>\n",
       "    </tr>\n",
       "    <tr>\n",
       "      <th>2</th>\n",
       "      <td>5631500400</td>\n",
       "      <td>20150225T000000</td>\n",
       "      <td>180000.0</td>\n",
       "      <td>2</td>\n",
       "      <td>1.00</td>\n",
       "      <td>770</td>\n",
       "      <td>10000</td>\n",
       "      <td>1.0</td>\n",
       "      <td>0</td>\n",
       "      <td>0</td>\n",
       "      <td>...</td>\n",
       "      <td>6</td>\n",
       "      <td>770</td>\n",
       "      <td>0</td>\n",
       "      <td>1933</td>\n",
       "      <td>0</td>\n",
       "      <td>98028</td>\n",
       "      <td>47.7379</td>\n",
       "      <td>-122.233</td>\n",
       "      <td>2720</td>\n",
       "      <td>8062</td>\n",
       "    </tr>\n",
       "    <tr>\n",
       "      <th>3</th>\n",
       "      <td>2487200875</td>\n",
       "      <td>20141209T000000</td>\n",
       "      <td>604000.0</td>\n",
       "      <td>4</td>\n",
       "      <td>3.00</td>\n",
       "      <td>1960</td>\n",
       "      <td>5000</td>\n",
       "      <td>1.0</td>\n",
       "      <td>0</td>\n",
       "      <td>0</td>\n",
       "      <td>...</td>\n",
       "      <td>7</td>\n",
       "      <td>1050</td>\n",
       "      <td>910</td>\n",
       "      <td>1965</td>\n",
       "      <td>0</td>\n",
       "      <td>98136</td>\n",
       "      <td>47.5208</td>\n",
       "      <td>-122.393</td>\n",
       "      <td>1360</td>\n",
       "      <td>5000</td>\n",
       "    </tr>\n",
       "    <tr>\n",
       "      <th>4</th>\n",
       "      <td>1954400510</td>\n",
       "      <td>20150218T000000</td>\n",
       "      <td>510000.0</td>\n",
       "      <td>3</td>\n",
       "      <td>2.00</td>\n",
       "      <td>1680</td>\n",
       "      <td>8080</td>\n",
       "      <td>1.0</td>\n",
       "      <td>0</td>\n",
       "      <td>0</td>\n",
       "      <td>...</td>\n",
       "      <td>8</td>\n",
       "      <td>1680</td>\n",
       "      <td>0</td>\n",
       "      <td>1987</td>\n",
       "      <td>0</td>\n",
       "      <td>98074</td>\n",
       "      <td>47.6168</td>\n",
       "      <td>-122.045</td>\n",
       "      <td>1800</td>\n",
       "      <td>7503</td>\n",
       "    </tr>\n",
       "  </tbody>\n",
       "</table>\n",
       "<p>5 rows × 21 columns</p>\n",
       "</div>"
      ],
      "text/plain": [
       "           id             date     price  bedrooms  bathrooms  sqft_living  \\\n",
       "0  7129300520  20141013T000000  221900.0         3       1.00         1180   \n",
       "1  6414100192  20141209T000000  538000.0         3       2.25         2570   \n",
       "2  5631500400  20150225T000000  180000.0         2       1.00          770   \n",
       "3  2487200875  20141209T000000  604000.0         4       3.00         1960   \n",
       "4  1954400510  20150218T000000  510000.0         3       2.00         1680   \n",
       "\n",
       "   sqft_lot  floors  waterfront  view  ...  grade  sqft_above  sqft_basement  \\\n",
       "0      5650     1.0           0     0  ...      7        1180              0   \n",
       "1      7242     2.0           0     0  ...      7        2170            400   \n",
       "2     10000     1.0           0     0  ...      6         770              0   \n",
       "3      5000     1.0           0     0  ...      7        1050            910   \n",
       "4      8080     1.0           0     0  ...      8        1680              0   \n",
       "\n",
       "   yr_built  yr_renovated  zipcode      lat     long  sqft_living15  \\\n",
       "0      1955             0    98178  47.5112 -122.257           1340   \n",
       "1      1951          1991    98125  47.7210 -122.319           1690   \n",
       "2      1933             0    98028  47.7379 -122.233           2720   \n",
       "3      1965             0    98136  47.5208 -122.393           1360   \n",
       "4      1987             0    98074  47.6168 -122.045           1800   \n",
       "\n",
       "   sqft_lot15  \n",
       "0        5650  \n",
       "1        7639  \n",
       "2        8062  \n",
       "3        5000  \n",
       "4        7503  \n",
       "\n",
       "[5 rows x 21 columns]"
      ]
     },
     "execution_count": 49,
     "metadata": {},
     "output_type": "execute_result"
    }
   ],
   "source": [
    "data.head()"
   ]
  },
  {
   "cell_type": "markdown",
   "metadata": {},
   "source": [
    "### Project Setup\n",
    "\n",
    "We'll need a few things to make this work: "
   ]
  },
  {
   "cell_type": "markdown",
   "metadata": {},
   "source": [
    "#### 1. A data set (see above)\n",
    "\n",
    " We are going to with on a dataset which consists information about the location of the house , price and other aspects such as square feet etc. The goal is to make a model which can give us a good prediction on the price of the house based on these attributes.  Before going too much farther, we should also discuss our success criteria--that is what is a good enough outcome for use of the model? [Insert discussion about AI product development] We can’t actually define “good accuracy” for this problem, but anything above 85% is good. Our aim on this dataset is to achieve an accuracy score of 85%+\n",
    " \n",
    "Because of the scope of this workshop, we're going to gloss over a bunch of steps in the Data Science lifecycle including, data exploration, feature selection (with steps like dimensionality reduction)and feature importance. If you're interested in what that looks like for this dataset/model I recommend checking out Shreyas' full blog on the topic.   \n",
    " \n",
    "Let's also do some prep (handle dates, remove index, extract and remove target variable (price) for training and reduce fearture space from 19 to 6"
   ]
  },
  {
   "cell_type": "code",
   "execution_count": 13,
   "metadata": {},
   "outputs": [],
   "source": [
    "labels = data['price']\n",
    "conv_dates = [1 if values == 2014 else 0 for values in data.date ]\n",
    "data['date'] = conv_dates\n",
    "train1 = data.drop(['id', 'price'],axis=1)"
   ]
  },
  {
   "cell_type": "code",
   "execution_count": 14,
   "metadata": {},
   "outputs": [],
   "source": [
    "x_train, x_test, y_train, y_test = train_test_split(train1, labels, test_size=0.10, random_state=2)"
   ]
  },
  {
   "cell_type": "code",
   "execution_count": 15,
   "metadata": {},
   "outputs": [],
   "source": [
    "col_imp = [\"grade\", \"lat\", \"long\", \"sqft_living\", \"waterfront\", \"yr_built\"]"
   ]
  },
  {
   "cell_type": "markdown",
   "metadata": {},
   "source": [
    "#### 2. An acceptable model which does something interesting (here: predicts home price from house demographics)"
   ]
  },
  {
   "cell_type": "markdown",
   "metadata": {},
   "source": [
    "We've going to use a Gradient Boosted learner as our model type. There are many options for regression that would probably yield similar results for a dataset of this size and shape, but I like gradient boosting for a few reasons here: \n",
    "\n",
    "**Gradient Boosting Algorithms** Ensemble models that avoid the overfit problem by building decision trees in a serial manner, correcting the mistakes of the previous tree.  Instead of randomization (like random forests), strong pre-pruning is used.  The idea is to combine many simple models (weak learners).  Each tree can only provide good predictions on a part of the data.  \n",
    "\n",
    "Gradient Boosting Algorithms are more sensitive to parameter settings than Random Forests, but can get better accuracy.\n",
    "\n",
    "Some key hyperparameters include:\n",
    "\n",
    "     Learning_rate: Controls how strongly each tree tries to correct the mistakes of the previous trees.  Higher value results in more complex models.\n",
    "\n",
    "     N_estimators and Max_depth: Typically tuned together.  N_estimators is normally set first to exploit memory and CPU and sets the number of boosting stages to perform. The maximum depth limits the number of nodes in the tree.\n",
    "\n",
    "* Pros:\n",
    "    1. Often the best off-the-shelf accuracy on many problems\n",
    "    2. Prediction Only requires modest memory and is fast\n",
    "    3. Features don’t need to be normalized carefully for model to perform well\n",
    "    4. Handles a mix of feature types well\n",
    "* Cons:\n",
    "    1. Don’t perform well on high dimensional, sparse data (like text)\n",
    "    2. Hard for humans to interpret\n",
    "    3. Require careful tuning of parameters\n",
    "    4. Requires careful tuning of parameters \n",
    "    5. Training is computationally expensive\n",
    "\n",
    "\n",
    "\n",
    " \n",
    " "
   ]
  },
  {
   "cell_type": "code",
   "execution_count": 16,
   "metadata": {},
   "outputs": [],
   "source": [
    "clf = GradientBoostingRegressor(n_estimators=400, max_depth=5, min_samples_split=2,\n",
    "          learning_rate=0.1, loss='ls')"
   ]
  },
  {
   "cell_type": "code",
   "execution_count": 17,
   "metadata": {},
   "outputs": [
    {
     "data": {
      "text/plain": [
       "GradientBoostingRegressor(max_depth=5, n_estimators=400)"
      ]
     },
     "execution_count": 17,
     "metadata": {},
     "output_type": "execute_result"
    }
   ],
   "source": [
    "clf.fit(train1[col_imp], labels)"
   ]
  },
  {
   "cell_type": "code",
   "execution_count": 18,
   "metadata": {},
   "outputs": [
    {
     "data": {
      "text/plain": [
       "0.9553842738696576"
      ]
     },
     "execution_count": 18,
     "metadata": {},
     "output_type": "execute_result"
    }
   ],
   "source": [
    "clf.score(x_test[col_imp],y_test)"
   ]
  },
  {
   "cell_type": "markdown",
   "metadata": {},
   "source": [
    "#### 3. A way to encode the model for reuse in a serving environment\n",
    "\n",
    "* Create a function that takes a dictionary value representation for a home and a model returns a  price prediction"
   ]
  },
  {
   "cell_type": "code",
   "execution_count": 19,
   "metadata": {},
   "outputs": [],
   "source": [
    "def predict(dict_values, col_imp=col_imp, clf=clf):\n",
    "    x = np.array([float(dict_values[col]) for col in col_imp])\n",
    "    x = x.reshape(1,-1)\n",
    "    y_pred = clf.predict(x)[0]\n",
    "    return y_pred"
   ]
  },
  {
   "cell_type": "markdown",
   "metadata": {},
   "source": [
    "* Export some test data to a [JSON](https://en.wikipedia.org/wiki/JSON) object so they can be easily handled by the an inference API, UI or service that we'll setup later\n",
    "* You can see from the output that the JSON format is adhered to and, if you want, compare row 20 of the dataframe to what's returned by the column import performed here"
   ]
  },
  {
   "cell_type": "code",
   "execution_count": 20,
   "metadata": {},
   "outputs": [
    {
     "data": {
      "text/plain": [
       "'{\"grade\":5.0,\"lat\":47.5138,\"long\":-122.364,\"sqft_living\":620.0,\"waterfront\":0.0,\"yr_built\":1939.0}'"
      ]
     },
     "execution_count": 20,
     "metadata": {},
     "output_type": "execute_result"
    }
   ],
   "source": [
    "x_test[col_imp].iloc[20].T.to_json(force_ascii = False)"
   ]
  },
  {
   "cell_type": "markdown",
   "metadata": {},
   "source": [
    "* Ok, we can assign the entire JSON object to a python variable, while also transposing it so that it's easier to read."
   ]
  },
  {
   "cell_type": "code",
   "execution_count": 21,
   "metadata": {},
   "outputs": [],
   "source": [
    "x_test_json = x_test[col_imp].iloc[20].T.replace('},{', '} {')"
   ]
  },
  {
   "cell_type": "markdown",
   "metadata": {},
   "source": [
    "* Let's check out the result, with some nice automatic formatting applied!"
   ]
  },
  {
   "cell_type": "code",
   "execution_count": 22,
   "metadata": {},
   "outputs": [
    {
     "data": {
      "text/plain": [
       "grade             5.0000\n",
       "lat              47.5138\n",
       "long           -122.3640\n",
       "sqft_living     620.0000\n",
       "waterfront        0.0000\n",
       "yr_built       1939.0000\n",
       "Name: 12418, dtype: float64"
      ]
     },
     "execution_count": 22,
     "metadata": {},
     "output_type": "execute_result"
    }
   ],
   "source": [
    "x_test_json"
   ]
  },
  {
   "cell_type": "markdown",
   "metadata": {},
   "source": [
    "* Now, let's run our predict function (which expects a JSON object) on x_test_json"
   ]
  },
  {
   "cell_type": "code",
   "execution_count": 23,
   "metadata": {},
   "outputs": [
    {
     "data": {
      "text/plain": [
       "179378.01971649803"
      ]
     },
     "execution_count": 23,
     "metadata": {},
     "output_type": "execute_result"
    }
   ],
   "source": [
    "predict(x_test_json)"
   ]
  },
  {
   "cell_type": "markdown",
   "metadata": {},
   "source": [
    "That's cool!  But wait--we were're talking about production, here.  We don't just want to run the model in a notebook, we want anyone to be able to find home prices--no matter where they are. Essentially we want to run the same model inference (prediction task) on the internet!  Well, first...we need a more friendly interface"
   ]
  },
  {
   "cell_type": "markdown",
   "metadata": {
    "collapsed": true
   },
   "source": [
    "#### 3. Building a Web-friendly UI \n",
    "\n",
    "Luckily for you (none of this existed when I started) a lot of great work has been done to itegrate common UI tools with the Jupyter environment.  \n",
    "\n",
    "From the ipywidgets [documentation](https://ipywidgets.readthedocs.io/en/latest/developer_docs.html#scope-of-ipywidgets): \n",
    "\n",
    "> `ipywidgets` is a framework to provide eventful python objects that have a representation in the browser...This requires two components:\n",
    "1. The framework for widget interactions between the widgets represented in the Python kernel and the (javascript) representation of the widgets in the browser.\n",
    "2. A basic, lightweight set of form controls that use this framework, based on standard HTML form controls. These included controls include a text area, text box, select and multiselect controls, checkbox, etc. A few more advanced controls that are very popular are also included, such as a slider and basic tab panels.\n",
    "\n",
    " \n",
    "##### What are widgets?\n",
    "Widgets are eventful python objects that have a representation in the browser, often as a control like a slider, textbox, etc.\n",
    "\n",
    "##### What can they be used for?\n",
    "You can use widgets to build interactive GUIs for your notebooks.\n",
    "You can also use widgets to synchronize stateful and stateless information between Python and JavaScript."
   ]
  },
  {
   "cell_type": "markdown",
   "metadata": {},
   "source": [
    "To use the widget framework, you need to import `ipywidgets`\n",
    "\n",
    "We're also going to want to add some dynamic display elements, so we'll need a component of IPython's display module called `clear_output`"
   ]
  },
  {
   "cell_type": "code",
   "execution_count": 24,
   "metadata": {},
   "outputs": [],
   "source": [
    "import ipywidgets as widgets\n",
    "from IPython.display import clear_output"
   ]
  },
  {
   "cell_type": "markdown",
   "metadata": {},
   "source": [
    "Now, let's create some buttons for our users.  We'll need two controls: \n",
    "1. Something that selects a (random) row from the dataset \n",
    "2. Another that computes a predicted price from the data in that row.\n",
    "\n",
    "We also need to setup the layout for the output and arrange the boxes and styles."
   ]
  },
  {
   "cell_type": "code",
   "execution_count": 34,
   "metadata": {},
   "outputs": [
    {
     "data": {
      "application/vnd.jupyter.widget-view+json": {
       "model_id": "6a35e559f03642efb6d05510cc1913f9",
       "version_major": 2,
       "version_minor": 0
      },
      "text/plain": [
       "Layout(width='auto')"
      ]
     },
     "metadata": {},
     "output_type": "display_data"
    }
   ],
   "source": [
    "score_btn = widgets.Button(description='Predict Price', \n",
    "                           button_style='primary',\n",
    "                           layout = widgets.Layout(width='auto', height='40px'))\n",
    "btn_select_random = widgets.Button(description = 'Select Random House', \n",
    "                                   layout = widgets.Layout(width='auto', height='auto'))\n",
    "out_select = widgets.Output(layout={'border': '1px solid black'})\n",
    "out_score = widgets.Output(layout={'border': '1px solid black'})\n",
    "widgets.Layout(width = 'auto')"
   ]
  },
  {
   "cell_type": "markdown",
   "metadata": {},
   "source": [
    "Ok, now that we've got everything setup and defined, we need a function for each button that actuall..Well does something.  First let's take care of selecting that random row from the KC dataset.  This function does a few things:\n",
    "\n",
    "1. Like above picks a random row from the dataset, transposes it to the correct JSON format and then assignes it to the variable **x_test_json**\n",
    "2. Clears the output of the UI box\n",
    "3. Prints out the selected data\n",
    "\n",
    "**note:** *Normally I wouldn't **ever** use a global variable like this, but when building simple UIs and in other contexts like video game programming where you essentially have a event listening service to interact with, passing data through arguments to functions/return statements can be a bit overkill"
   ]
  },
  {
   "cell_type": "code",
   "execution_count": 35,
   "metadata": {},
   "outputs": [],
   "source": [
    "def btn_select_random_eventhandler(obj):\n",
    "    with out_select:\n",
    "        global x_test_json\n",
    "        x_test_json = x_test[col_imp].iloc[rand.randint(1,2100)].T.replace('},{', '} {')\n",
    "        clear_output()\n",
    "        print(x_test_json)\n",
    "    with out_score:\n",
    "        clear_output()"
   ]
  },
  {
   "cell_type": "markdown",
   "metadata": {},
   "source": [
    "We'll make a similar function for the scoring button, but the most important part is calling the `predict` function from earlier on the selected variable: **x_test_json**"
   ]
  },
  {
   "cell_type": "code",
   "execution_count": 36,
   "metadata": {},
   "outputs": [],
   "source": [
    "def btn_score_eventhandler(obj):\n",
    "    with out_score:\n",
    "        clear_output()\n",
    "        print(\"Predicted Price: $\",predict(x_test_json) )"
   ]
  },
  {
   "cell_type": "markdown",
   "metadata": {},
   "source": [
    "Now let's display (and run) the simple UI by arranging the objects in the correct order and then calling the event handling functions from above!"
   ]
  },
  {
   "cell_type": "code",
   "execution_count": 41,
   "metadata": {},
   "outputs": [
    {
     "data": {
      "application/vnd.jupyter.widget-view+json": {
       "model_id": "bb28b9c3fa5049248761c58094b5520e",
       "version_major": 2,
       "version_minor": 0
      },
      "text/plain": [
       "VBox(children=(Button(description='Select Random House', layout=Layout(height='auto', width='auto'), style=But…"
      ]
     },
     "metadata": {},
     "output_type": "display_data"
    }
   ],
   "source": [
    "display(widgets.VBox([btn_select_random,out_select,score_btn,out_score]))\n",
    "\n",
    "btn_select_random.on_click(btn_select_random_eventhandler)\n",
    "score_btn.on_click(btn_score_eventhandler)"
   ]
  },
  {
   "cell_type": "markdown",
   "metadata": {},
   "source": [
    "#### 4. Putting it all into a Web App\n",
    "Ok perfect!  Now that we have a UI, we can start thinking about deployment--seriously. Now Jupyter is a great format for experimentation and testing, but in many ways is _Not_ good for code execution and serious development.  \n",
    "\n",
    "As such we need to use some tools to get around that.  The first is a service that turns notebooks into standalone web applications, called **Voila!**.  \n",
    "\n",
    "In thier own words:\n",
    "\n",
    "> Unlike the usual HTML-converted notebooks, each user connecting to the Voilà tornado application gets a dedicated Jupyter kernel which can execute the callbacks to changes in Jupyter interactive widgets."
   ]
  },
  {
   "cell_type": "markdown",
   "metadata": {},
   "source": [
    "To do this, run the following code (one time!) in your notebook environment.\n",
    "\n",
    "```pip install voila\n",
    "jupyter serverextension enable --sys-prefix voila \n",
    "```"
   ]
  },
  {
   "cell_type": "markdown",
   "metadata": {},
   "source": [
    "Next, we can test this out by replacing the word \"notebooks\" in your URL bar with \"voila/render/\"\n",
    "\n",
    "Cool, right?"
   ]
  },
  {
   "cell_type": "markdown",
   "metadata": {},
   "source": [
    "Finally we want _anyone_ to be able to access our awesome ML app, not just folks that are local to our computing environment...So we need a web service to host our web application.  It'll need some compute, memory, some basic software and a bunch of networking instructions.  Since it's 2020, you don't have to build that in your garage!  \n",
    "\n",
    "For simple applications like this that don't need high performance hardware or to be responsive to a lot of traffic, it's even better--we can just use Binder.  Binder _litterally_ turns git repos into remote cloud environments."
   ]
  },
  {
   "cell_type": "markdown",
   "metadata": {},
   "source": [
    "Here's some info from https://mybinder.readthedocs.io/en/latest/: \n",
    "\n",
    "> Binder allows you to create custom computing environments that can be shared and used by many remote users. It is powered by [BinderHub](https://github.com/jupyterhub/binderhub), which is an open-source tool that deploys the Binder service in the cloud. One-such deployment lives at [mybinder.org](https://mybinder.org/), and is free to use. For more information about the mybinder.org deployment and the team that runs it, see [About mybinder.org](https://mybinder.readthedocs.io/en/latest/about/about.html)."
   ]
  },
  {
   "cell_type": "markdown",
   "metadata": {},
   "source": [
    "Great--let's do this.  We'll want to clean up our notebook a little bit so that we can keep users focused on the real functionality that we want.  To save time, I went ahead and created `HousePriceApp.ipynb` which just is a cleaned up version of what we built above.\n",
    "\n",
    "Also we need to tell Binder what software to install! So the `requirement.txt` file includes the following:\n",
    "\n",
    "``` \n",
    "voila\n",
    "numpy\n",
    "sklearn\n",
    "pandas\n",
    "ipywidgets==7.5.1\n",
    "```"
   ]
  },
  {
   "cell_type": "markdown",
   "metadata": {},
   "source": [
    "To send our ML application to the web to be enjoyed by all here's what you do:\n",
    "\n",
    "1. Visit the Binder landing page\n",
    "2. Enter https://github.com/stbiadmin/USCProdML into the first field \n",
    "3. Enter the word \"main\" into the 2nd field.\n",
    "4. Change the \"file\" dropdown in the third field to \"URL\"\n",
    "5. Enter voila/render/HousePriceApp.ipynb into the third field \n",
    "6. Click \"launch\"\n",
    "\n",
    "It should look something like the below:\n",
    "\n",
    "![binderui.png](images/BinderUI.png)"
   ]
  },
  {
   "cell_type": "markdown",
   "metadata": {},
   "source": [
    "You should see something like this for a while: \n",
    "\n",
    "![binderprogres.png](images/binderProgress.png)"
   ]
  },
  {
   "cell_type": "markdown",
   "metadata": {},
   "source": [
    "And now finally our Production Machine Learning Application is live!  Of course, as we discussed before, this is essentially a demo web application and would not be appropriate for heavy-duty or extended use (Binder _will_ delete the container and release the ssociated resources after a certain amount of time).  \n",
    "\n",
    "![RandomHouseApp.png](images/RandomHouseApp.png)\n",
    "So, what do real-world application teams do when they need to persist an application with ML built into it?  This is the focus of the lecture, so let's switch over to the [slides]()"
   ]
  },
  {
   "cell_type": "markdown",
   "metadata": {},
   "source": [
    "## Appendix"
   ]
  },
  {
   "cell_type": "markdown",
   "metadata": {},
   "source": [
    " * Walk through training of RF Regressor?\n",
    " * Compare R^2 scores to select one?"
   ]
  },
  {
   "cell_type": "code",
   "execution_count": 69,
   "metadata": {},
   "outputs": [
    {
     "data": {
      "text/plain": [
       "grade            11.0000\n",
       "lat              47.5696\n",
       "long           -122.0900\n",
       "sqft_living    5270.0000\n",
       "waterfront        1.0000\n",
       "yr_built       1979.0000\n",
       "Name: 13710, dtype: float64"
      ]
     },
     "execution_count": 69,
     "metadata": {},
     "output_type": "execute_result"
    }
   ],
   "source": [
    "x_test[col_imp].iloc[rand.randint(1,2162)]"
   ]
  },
  {
   "cell_type": "code",
   "execution_count": null,
   "metadata": {
    "collapsed": true
   },
   "outputs": [],
   "source": [
    "x_test[col_imp].iloc[rand.randint(1,2162)].T.to_json(\"../to_predict_json.json\")"
   ]
  }
 ],
 "metadata": {
  "kernelspec": {
   "display_name": "Python 3",
   "language": "python",
   "name": "python3"
  },
  "language_info": {
   "codemirror_mode": {
    "name": "ipython",
    "version": 3
   },
   "file_extension": ".py",
   "mimetype": "text/x-python",
   "name": "python",
   "nbconvert_exporter": "python",
   "pygments_lexer": "ipython3",
   "version": "3.8.3"
  }
 },
 "nbformat": 4,
 "nbformat_minor": 2
}
